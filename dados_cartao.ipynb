{
 "cells": [
  {
   "cell_type": "code",
   "execution_count": 68,
   "metadata": {},
   "outputs": [],
   "source": [
    "import pandas as pd"
   ]
  },
  {
   "cell_type": "code",
   "execution_count": 69,
   "metadata": {},
   "outputs": [],
   "source": [
    "import numpy as np"
   ]
  },
  {
   "cell_type": "code",
   "execution_count": 157,
   "metadata": {},
   "outputs": [],
   "source": [
    "df = pd.read_csv('dados_brutos\\Planilha1_2003a2022.csv',sep=';', encoding = 'ISO-8859-1')"
   ]
  },
  {
   "cell_type": "code",
   "execution_count": 175,
   "metadata": {},
   "outputs": [
    {
     "data": {
      "text/html": [
       "<div>\n",
       "<style scoped>\n",
       "    .dataframe tbody tr th:only-of-type {\n",
       "        vertical-align: middle;\n",
       "    }\n",
       "\n",
       "    .dataframe tbody tr th {\n",
       "        vertical-align: top;\n",
       "    }\n",
       "\n",
       "    .dataframe thead th {\n",
       "        text-align: right;\n",
       "    }\n",
       "</style>\n",
       "<table border=\"1\" class=\"dataframe\">\n",
       "  <thead>\n",
       "    <tr style=\"text-align: right;\">\n",
       "      <th></th>\n",
       "      <th>data_pag</th>\n",
       "      <th>cpf_servidor</th>\n",
       "      <th>cpf_cnpj_servidor</th>\n",
       "      <th>nome_fornecedor</th>\n",
       "      <th>valor</th>\n",
       "      <th>forma_pag</th>\n",
       "      <th>tipo_despesa</th>\n",
       "      <th>presidente</th>\n",
       "    </tr>\n",
       "  </thead>\n",
       "  <tbody>\n",
       "    <tr>\n",
       "      <th>0</th>\n",
       "      <td>2003-01-02</td>\n",
       "      <td>***.010.008-**</td>\n",
       "      <td>31349202000177</td>\n",
       "      <td>JW TRANSPORTADORA TURÖSTICA</td>\n",
       "      <td>1696.90</td>\n",
       "      <td>D</td>\n",
       "      <td>LOCACAO DE MEIOS DE TRANSPORTE</td>\n",
       "      <td>Luiz Inacio</td>\n",
       "    </tr>\n",
       "    <tr>\n",
       "      <th>1</th>\n",
       "      <td>2003-01-02</td>\n",
       "      <td>***.010.008-**</td>\n",
       "      <td>31349202000177</td>\n",
       "      <td>JW TRANSPORTADORA TURÖSTICA</td>\n",
       "      <td>1336.60</td>\n",
       "      <td>D</td>\n",
       "      <td>LOCACAO DE MEIOS DE TRANSPORTE</td>\n",
       "      <td>Luiz Inacio</td>\n",
       "    </tr>\n",
       "    <tr>\n",
       "      <th>2</th>\n",
       "      <td>2003-01-02</td>\n",
       "      <td>***.868.251-**</td>\n",
       "      <td>31349202000177</td>\n",
       "      <td>JW TRANSPORTADORA TURÖSTICA</td>\n",
       "      <td>1396.43</td>\n",
       "      <td>D</td>\n",
       "      <td>LOCACAO DE MEIOS DE TRANSPORTE</td>\n",
       "      <td>Luiz Inacio</td>\n",
       "    </tr>\n",
       "    <tr>\n",
       "      <th>3</th>\n",
       "      <td>2003-01-03</td>\n",
       "      <td>***.004.131-**</td>\n",
       "      <td>592717000170</td>\n",
       "      <td>FLORES ALVORADA</td>\n",
       "      <td>8585.00</td>\n",
       "      <td>C</td>\n",
       "      <td>OUTROS SERVIOS DE TERCEIROS-PESSOA JURÖDICA</td>\n",
       "      <td>Luiz Inacio</td>\n",
       "    </tr>\n",
       "    <tr>\n",
       "      <th>4</th>\n",
       "      <td>2003-01-03</td>\n",
       "      <td>***.004.131-**</td>\n",
       "      <td>839308000125</td>\n",
       "      <td>CRISTAL LIMPEZA - COMRCIO DE MATERIAIS PARA L...</td>\n",
       "      <td>251.50</td>\n",
       "      <td>C</td>\n",
       "      <td>MATERIAL DE LIMPEZA E PROD. DE HIGIENIZAÇO</td>\n",
       "      <td>Luiz Inacio</td>\n",
       "    </tr>\n",
       "    <tr>\n",
       "      <th>...</th>\n",
       "      <td>...</td>\n",
       "      <td>...</td>\n",
       "      <td>...</td>\n",
       "      <td>...</td>\n",
       "      <td>...</td>\n",
       "      <td>...</td>\n",
       "      <td>...</td>\n",
       "      <td>...</td>\n",
       "    </tr>\n",
       "    <tr>\n",
       "      <th>113335</th>\n",
       "      <td>2022-12-03</td>\n",
       "      <td>***.136.591-**</td>\n",
       "      <td>17261661005728</td>\n",
       "      <td>OUTBACK STEAKHOUSE RESTAURANTES BRASIL S/A</td>\n",
       "      <td>179.50</td>\n",
       "      <td>C</td>\n",
       "      <td>FORNECIMENTO DE ALIMENTAÇO</td>\n",
       "      <td>Jair Bolsonaro</td>\n",
       "    </tr>\n",
       "    <tr>\n",
       "      <th>113336</th>\n",
       "      <td>2022-12-03</td>\n",
       "      <td>***.136.591-**</td>\n",
       "      <td>39879944000116</td>\n",
       "      <td>BIOMUNDO 105 NORTE COMERCIO DE ALIMENTOS</td>\n",
       "      <td>54.95</td>\n",
       "      <td>C</td>\n",
       "      <td>GENEROS DE ALIMENTAÇO</td>\n",
       "      <td>Jair Bolsonaro</td>\n",
       "    </tr>\n",
       "    <tr>\n",
       "      <th>113337</th>\n",
       "      <td>2022-12-04</td>\n",
       "      <td>***.136.591-**</td>\n",
       "      <td>47508411094975</td>\n",
       "      <td>COMPANHIA BRASILEIRA DE DISTRIBUIÇO</td>\n",
       "      <td>518.07</td>\n",
       "      <td>C</td>\n",
       "      <td>GENEROS DE ALIMENTAÇO</td>\n",
       "      <td>Jair Bolsonaro</td>\n",
       "    </tr>\n",
       "    <tr>\n",
       "      <th>113338</th>\n",
       "      <td>2022-12-04</td>\n",
       "      <td>***.136.591-**</td>\n",
       "      <td>12550441000146</td>\n",
       "      <td>RESTAURANTE SOHO</td>\n",
       "      <td>330.52</td>\n",
       "      <td>C</td>\n",
       "      <td>FORNECIMENTO DE ALIMENTAÇO</td>\n",
       "      <td>Jair Bolsonaro</td>\n",
       "    </tr>\n",
       "    <tr>\n",
       "      <th>113339</th>\n",
       "      <td>2022-12-04</td>\n",
       "      <td>***.136.591-**</td>\n",
       "      <td>3696869000100</td>\n",
       "      <td>BIG TRANS COMERCIAL DE ALIMENTOS LTDA</td>\n",
       "      <td>54.66</td>\n",
       "      <td>C</td>\n",
       "      <td>GENEROS DE ALIMENTAÇO</td>\n",
       "      <td>Jair Bolsonaro</td>\n",
       "    </tr>\n",
       "  </tbody>\n",
       "</table>\n",
       "<p>113325 rows × 8 columns</p>\n",
       "</div>"
      ],
      "text/plain": [
       "         data_pag    cpf_servidor cpf_cnpj_servidor  \\\n",
       "0      2003-01-02  ***.010.008-**    31349202000177   \n",
       "1      2003-01-02  ***.010.008-**    31349202000177   \n",
       "2      2003-01-02  ***.868.251-**    31349202000177   \n",
       "3      2003-01-03  ***.004.131-**      592717000170   \n",
       "4      2003-01-03  ***.004.131-**      839308000125   \n",
       "...           ...             ...               ...   \n",
       "113335 2022-12-03  ***.136.591-**    17261661005728   \n",
       "113336 2022-12-03  ***.136.591-**    39879944000116   \n",
       "113337 2022-12-04  ***.136.591-**    47508411094975   \n",
       "113338 2022-12-04  ***.136.591-**    12550441000146   \n",
       "113339 2022-12-04  ***.136.591-**     3696869000100   \n",
       "\n",
       "                                          nome_fornecedor    valor forma_pag  \\\n",
       "0                             JW TRANSPORTADORA TURÖSTICA  1696.90         D   \n",
       "1                             JW TRANSPORTADORA TURÖSTICA  1336.60         D   \n",
       "2                             JW TRANSPORTADORA TURÖSTICA  1396.43         D   \n",
       "3                                         FLORES ALVORADA  8585.00         C   \n",
       "4       CRISTAL LIMPEZA - COMRCIO DE MATERIAIS PARA L...   251.50         C   \n",
       "...                                                   ...      ...       ...   \n",
       "113335         OUTBACK STEAKHOUSE RESTAURANTES BRASIL S/A   179.50         C   \n",
       "113336           BIOMUNDO 105 NORTE COMERCIO DE ALIMENTOS    54.95         C   \n",
       "113337               COMPANHIA BRASILEIRA DE DISTRIBUIÇO   518.07         C   \n",
       "113338                                   RESTAURANTE SOHO   330.52         C   \n",
       "113339              BIG TRANS COMERCIAL DE ALIMENTOS LTDA    54.66         C   \n",
       "\n",
       "                                        tipo_despesa      presidente  \n",
       "0                     LOCACAO DE MEIOS DE TRANSPORTE     Luiz Inacio  \n",
       "1                     LOCACAO DE MEIOS DE TRANSPORTE     Luiz Inacio  \n",
       "2                     LOCACAO DE MEIOS DE TRANSPORTE     Luiz Inacio  \n",
       "3       OUTROS SERVIOS DE TERCEIROS-PESSOA JURÖDICA     Luiz Inacio  \n",
       "4        MATERIAL DE LIMPEZA E PROD. DE HIGIENIZAÇO     Luiz Inacio  \n",
       "...                                              ...             ...  \n",
       "113335                   FORNECIMENTO DE ALIMENTAÇO  Jair Bolsonaro  \n",
       "113336                        GENEROS DE ALIMENTAÇO  Jair Bolsonaro  \n",
       "113337                        GENEROS DE ALIMENTAÇO  Jair Bolsonaro  \n",
       "113338                   FORNECIMENTO DE ALIMENTAÇO  Jair Bolsonaro  \n",
       "113339                        GENEROS DE ALIMENTAÇO  Jair Bolsonaro  \n",
       "\n",
       "[113325 rows x 8 columns]"
      ]
     },
     "execution_count": 175,
     "metadata": {},
     "output_type": "execute_result"
    }
   ],
   "source": [
    "df"
   ]
  },
  {
   "cell_type": "code",
   "execution_count": 72,
   "metadata": {},
   "outputs": [],
   "source": [
    "# Excluir linhas onde o valor for NaN \n",
    "# Converter coluna Data para date type\n",
    "# Converter coluna CNPJ para string\n",
    "# Converter coluna valor para float"
   ]
  },
  {
   "cell_type": "code",
   "execution_count": 173,
   "metadata": {},
   "outputs": [
    {
     "data": {
      "text/plain": [
       "data_pag             datetime64[ns]\n",
       "cpf_servidor                 object\n",
       "cpf_cnpj_servidor            object\n",
       "nome_fornecedor              object\n",
       "valor                       float64\n",
       "forma_pag                    object\n",
       "tipo_despesa                 object\n",
       "dtype: object"
      ]
     },
     "execution_count": 173,
     "metadata": {},
     "output_type": "execute_result"
    }
   ],
   "source": [
    "df.dtypes"
   ]
  },
  {
   "attachments": {},
   "cell_type": "markdown",
   "metadata": {},
   "source": [
    "## Tratar Dados"
   ]
  },
  {
   "cell_type": "code",
   "execution_count": 160,
   "metadata": {},
   "outputs": [],
   "source": [
    "# Renomear Colunas\n",
    "df = df.rename(\n",
    "    columns= {'DATA PGTO':'data_pag',\n",
    "             'CPF SERVIDOR':'cpf_servidor',\n",
    "             'CPF/CNPJ FORNECEDOR':'cpf_cnpj_servidor',\n",
    "             'NOME FORNECEDOR':'nome_fornecedor',\n",
    "             'VALOR':'valor',\n",
    "             'TIPO':'forma_pag',\n",
    "             'SUBELEMENTO DE DESPESA':'tipo_despesa',\n",
    "             'CDIC':'cdic'}          \n",
    "             \n",
    "            )"
   ]
  },
  {
   "cell_type": "code",
   "execution_count": 161,
   "metadata": {},
   "outputs": [],
   "source": [
    "# Excluir linhas onde o valor for NaN\n",
    "df = df.dropna(subset=[\"valor\"])"
   ]
  },
  {
   "cell_type": "code",
   "execution_count": 163,
   "metadata": {},
   "outputs": [],
   "source": [
    "# Converter coluna Data para date type\n",
    "df[\"data_pag\"] = pd.to_datetime(df[\"data_pag\"],format=\"%d/%m/%Y\")"
   ]
  },
  {
   "cell_type": "code",
   "execution_count": 164,
   "metadata": {},
   "outputs": [],
   "source": [
    "# Excluir valores que começam com \"-\"\n",
    "# Se retirar o ~ ele deixe só os valores que comneçam com \"-\"\n",
    "df = df[~df['valor'].str.startswith('-')]"
   ]
  },
  {
   "cell_type": "code",
   "execution_count": 165,
   "metadata": {},
   "outputs": [],
   "source": [
    "df[\"valor\"] = df[\"valor\"].str.replace(\"R$\" , \"\").str.replace(\".\" , \"\").str.replace(\",\" , \".\").replace('  -   ', np.nan).astype(float)\n",
    "#df[\"valor\"] = df[\"valor\"].astype(float)"
   ]
  },
  {
   "cell_type": "code",
   "execution_count": 166,
   "metadata": {},
   "outputs": [],
   "source": [
    "# Converter valores não finitos para NaN na coluna 'cpf_cnpj_servidor'\n",
    "df['cpf_cnpj_servidor'] = df['cpf_cnpj_servidor'].replace([np.inf, -np.inf], np.nan)\n",
    "\n",
    "# Converter a coluna 'cpf_cnpj_servidor' para o tipo inteiro\n",
    "df['cpf_cnpj_servidor'] = df['cpf_cnpj_servidor'].astype(float).astype('Int64')"
   ]
  },
  {
   "cell_type": "code",
   "execution_count": 167,
   "metadata": {},
   "outputs": [],
   "source": [
    "# Converter coluna cpf_cnpj em string\n",
    "df[\"cpf_cnpj_servidor\"] = df[\"cpf_cnpj_servidor\"].astype(str)"
   ]
  },
  {
   "cell_type": "code",
   "execution_count": 168,
   "metadata": {},
   "outputs": [],
   "source": [
    "# Excluir coluna cdic\n",
    "df.drop(['cdic'],axis=1,inplace=True)"
   ]
  },
  {
   "cell_type": "code",
   "execution_count": 174,
   "metadata": {},
   "outputs": [],
   "source": [
    "# Função personalizada para mapear os valores da coluna \"presidente\" com base no ano e mês\n",
    "def mapear_presidente(row):\n",
    "    ano = row['data_pag'].year\n",
    "    mes = row['data_pag'].month\n",
    "    \n",
    "    if 2003 <= ano <= 2010:\n",
    "        return 'Luiz Inacio'\n",
    "    if 2011 <= ano <= 2015:\n",
    "        return 'Dilma Rousseff'\n",
    "    if 2017 <= ano <= 2018:\n",
    "        return 'Michel Temer'\n",
    "    if 2019 <= ano <= 2022:\n",
    "        return 'Jair Bolsonaro'\n",
    "    elif ano == 2016:\n",
    "        if mes <= 8:\n",
    "            return 'Dilma Rousseff'\n",
    "        else:\n",
    "            return 'Michel Temer'\n",
    "    \n",
    "\n",
    "# Aplicar a função ao criar a coluna \"presidente\"\n",
    "df[\"presidente\"] = df.apply(mapear_presidente, axis=1)\n",
    "    "
   ]
  },
  {
   "cell_type": "code",
   "execution_count": 176,
   "metadata": {},
   "outputs": [],
   "source": [
    "df.to_csv('dados_tratados/cartao_corp_trat.csv', index=False)"
   ]
  }
 ],
 "metadata": {
  "kernelspec": {
   "display_name": "Python 3",
   "language": "python",
   "name": "python3"
  },
  "language_info": {
   "codemirror_mode": {
    "name": "ipython",
    "version": 3
   },
   "file_extension": ".py",
   "mimetype": "text/x-python",
   "name": "python",
   "nbconvert_exporter": "python",
   "pygments_lexer": "ipython3",
   "version": "3.10.11"
  },
  "orig_nbformat": 4
 },
 "nbformat": 4,
 "nbformat_minor": 2
}
